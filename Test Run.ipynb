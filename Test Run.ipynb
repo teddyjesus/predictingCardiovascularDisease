{
 "cells": [
  {
   "cell_type": "code",
   "execution_count": null,
   "metadata": {},
   "outputs": [],
   "source": [
    "options(warn = -1)\n",
    "\n",
    "suppressWarnings({\n",
    "    libs <- c(\"tidyverse\",\"glmnet\",\"caret\")\n",
    "load.libs <- function(x){\n",
    "  for(i in x){\n",
    "    if(!require(i,character.only = TRUE )){\n",
    "      install.packages(i,dependencies = TRUE )\n",
    "      library(i,character.only = TRUE )\n",
    "    }\n",
    "  }\n",
    "}\n",
    "load.libs(libs)\n",
    "})"
   ]
  },
  {
   "cell_type": "code",
   "execution_count": 73,
   "metadata": {},
   "outputs": [],
   "source": [
    "dataUnstructured<-read.table(\"cardio_train.csv\",head=T,sep=\";\")\n",
    "\n",
    "data<-dataUnstructured[,-1]%>%\n",
    "    rename(Outcome=cardio)%>%\n",
    "    mutate(age=round(age/362.25),\n",
    "           ageSq=age**2,\n",
    "           BMI=weight/((height/100)**2),\n",
    "           BMISq=BMI^2)%>%\n",
    "    select(-c(height,weight))%>%\n",
    "    select(Outcome,everything())\n",
    "\n",
    "trainingIndices<-data[,\"Outcome\"]%>%\n",
    "    createDataPartition(p=0.80,list=F)\n",
    "\n",
    "trainSet<-data[trainingIndices,]\n",
    "testSet<-data[-trainingIndices,]\n",
    "\n",
    "interactions<-c(\"gender\",\"cholesterol\",\"gluc\",\"smoke\",\"alco\",\"active\")\n",
    "categorical<-c(\"gender\",\"cholesterol\",\"gluc\",\"smoke\",\"alco\",\"active\",\"Outcome\")\n",
    "\n",
    "designMatrix<-function(data){\n",
    "    data[,names(data) %in% categorical]<-lapply(data[,names(data)%in%categorical],as.factor)\n",
    "    interactionMatrix<-model.matrix(~.^2-1,data[,names(data) %in% interactions])\n",
    "    additiveMatrix<-model.matrix(~.-1,data[,!names(data) %in% c(interactions,\"Outcome\")])\n",
    "    \n",
    "    return(cbind(additiveMatrix,interactionMatrix))\n",
    "}\n",
    "\n",
    "X_train<-designMatrix(trainSet)\n",
    "Y_train<-as.matrix(trainSet[,\"Outcome\"])\n",
    "\n",
    "X_test<-designMatrix(testSet)\n",
    "Y_test<-as.matrix(testSet[,\"Outcome\"])"
   ]
  },
  {
   "cell_type": "code",
   "execution_count": 65,
   "metadata": {},
   "outputs": [
    {
     "data": {
      "image/png": "[encoded data removed]",
      "text/plain": [
       "plot without title"
      ]
     },
     "metadata": {},
     "output_type": "display_data"
    }
   ],
   "source": [
    "set.seed(50)\n",
    "CV<-cv.glmnet(X_train,Y_train,\n",
    "              alpha=0,nfold=10,family=\"binomial\")\n",
    "plot(CV)"
   ]
  },
  {
   "cell_type": "code",
   "execution_count": 66,
   "metadata": {},
   "outputs": [
    {
     "data": {
      "text/plain": [
       "42 x 1 sparse Matrix of class \"dgCMatrix\"\n",
       "                                s0\n",
       "(Intercept)          -4.8865620527\n",
       "age                   0.0305360720\n",
       "ap_hi                 0.0066529354\n",
       "ap_lo                 0.0010933389\n",
       "ageSq                 0.0002789687\n",
       "BMI                   0.0575197588\n",
       "BMISq                -0.0001830161\n",
       "(Intercept)           .           \n",
       "gender2               0.1530872299\n",
       "cholesterol2          0.3740072426\n",
       "cholesterol3          0.8988316051\n",
       "gluc2                 0.1913734750\n",
       "gluc3                 0.0582884962\n",
       "smoke1               -0.0126785249\n",
       "alco1                -0.1157212387\n",
       "active1              -0.2110600337\n",
       "gender2:cholesterol2  0.2812612544\n",
       "gender2:cholesterol3 -0.0178542662\n",
       "gender2:gluc2         0.0886745644\n",
       "gender2:gluc3        -0.2260593889\n",
       "gender2:smoke1        0.0196664058\n",
       "gender2:alco1         0.0418848470\n",
       "gender2:active1      -0.0352022690\n",
       "cholesterol2:gluc2   -0.3193186400\n",
       "cholesterol3:gluc2   -0.2928878111\n",
       "cholesterol2:gluc3   -0.0416990144\n",
       "cholesterol3:gluc3   -0.3816453634\n",
       "cholesterol2:smoke1   0.0501569729\n",
       "cholesterol3:smoke1   0.2398892370\n",
       "cholesterol2:alco1   -0.2143147430\n",
       "cholesterol3:alco1    0.0566661624\n",
       "cholesterol2:active1  0.1096750960\n",
       "cholesterol3:active1  0.4706773616\n",
       "gluc2:smoke1          0.0084142663\n",
       "gluc3:smoke1         -0.0269851476\n",
       "gluc2:alco1           0.2968338976\n",
       "gluc3:alco1           0.1632955026\n",
       "gluc2:active1         0.0457810423\n",
       "gluc3:active1        -0.1348705418\n",
       "smoke1:alco1         -0.1155070685\n",
       "smoke1:active1       -0.1160151347\n",
       "alco1:active1        -0.0536071703"
      ]
     },
     "metadata": {},
     "output_type": "display_data"
    }
   ],
   "source": [
    "lasso<-glmnet(X_train,Y_train,\n",
    "              alpha=0,family=\"binomial\",\n",
    "              lambda=CV$lambda.min)\n",
    "coef(lasso)"
   ]
  },
  {
   "cell_type": "code",
   "execution_count": 69,
   "metadata": {},
   "outputs": [
    {
     "data": {
      "text/html": [
       "0.684857142857143"
      ],
      "text/latex": [
       "0.684857142857143"
      ],
      "text/markdown": [
       "0.684857142857143"
      ],
      "text/plain": [
       "[1] 0.6848571"
      ]
     },
     "metadata": {},
     "output_type": "display_data"
    }
   ],
   "source": [
    "probs<-predict(lasso,X_test)\n",
    "predictions<-ifelse(prob > 0.5,1,0)\n",
    "trueValues<-Y_test\n",
    "mean(predictions==trueValues)"
   ]
  }
 ],
 "metadata": {
  "kernelspec": {
   "display_name": "R",
   "language": "R",
   "name": "ir"
  },
  "language_info": {
   "codemirror_mode": "r",
   "file_extension": ".r",
   "mimetype": "text/x-r-source",
   "name": "R",
   "pygments_lexer": "r",
   "version": "3.6.1"
  }
 },
 "nbformat": 4,
 "nbformat_minor": 2
}
