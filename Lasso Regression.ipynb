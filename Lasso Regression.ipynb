{
 "cells": [
  {
   "cell_type": "code",
   "execution_count": 11,
   "metadata": {},
   "outputs": [],
   "source": [
    "options(warn = -1)\n",
    "\n",
    "suppressWarnings({\n",
    "    libs <- c(\"tidyverse\",\"glmnet\",\"caret\")\n",
    "load.libs <- function(x){\n",
    "  for(i in x){\n",
    "    if(!require(i,character.only = TRUE )){\n",
    "      install.packages(i,dependencies = TRUE )\n",
    "      library(i,character.only = TRUE )\n",
    "    }\n",
    "  }\n",
    "}\n",
    "load.libs(libs)\n",
    "})"
   ]
  },
  {
   "cell_type": "code",
   "execution_count": 2,
   "metadata": {},
   "outputs": [],
   "source": [
    "dataUnstructured<-read.table(\"cardio_train.csv\",head=T,sep=\";\")\n",
    "\n",
    "data<-dataUnstructured[,-1]%>%\n",
    "    rename(Outcome=cardio)%>%\n",
    "    mutate(age=round(age/362.25),\n",
    "           BMI=weight/((height/100)**2))%>%\n",
    "    select(-c(height,weight))%>%\n",
    "    select(Outcome,everything())\n",
    "\n",
    "categorical<-c(\"gender\",\"cholesterol\",\"gluc\",\"smoke\",\"alco\",\"active\",\"Outcome\")\n",
    "data[,names(data) %in% categorical]<-lapply(data[,names(data)%in%categorical],as.factor)\n",
    "\n",
    "X<-scale(model.matrix(Outcome~.,data)[,-1],center=T,scale=F)\n",
    "colnames(X) <- paste0(\"d_\", colnames(X))\n",
    "data<-cbind(data,X)"
   ]
  },
  {
   "cell_type": "code",
   "execution_count": 3,
   "metadata": {},
   "outputs": [
    {
     "data": {
      "text/html": [
       "'d_age+d_gender2+d_ap_hi+d_ap_lo+d_cholesterol2+d_cholesterol3+d_gluc2+d_gluc3+d_smoke1+d_alco1+d_active1+d_BMI+age+gender+ap_hi+ap_lo+cholesterol+gluc+smoke+alco+active+BMI'"
      ],
      "text/latex": [
       "'d\\_age+d\\_gender2+d\\_ap\\_hi+d\\_ap\\_lo+d\\_cholesterol2+d\\_cholesterol3+d\\_gluc2+d\\_gluc3+d\\_smoke1+d\\_alco1+d\\_active1+d\\_BMI+age+gender+ap\\_hi+ap\\_lo+cholesterol+gluc+smoke+alco+active+BMI'"
      ],
      "text/markdown": [
       "'d_age+d_gender2+d_ap_hi+d_ap_lo+d_cholesterol2+d_cholesterol3+d_gluc2+d_gluc3+d_smoke1+d_alco1+d_active1+d_BMI+age+gender+ap_hi+ap_lo+cholesterol+gluc+smoke+alco+active+BMI'"
      ],
      "text/plain": [
       "[1] \"d_age+d_gender2+d_ap_hi+d_ap_lo+d_cholesterol2+d_cholesterol3+d_gluc2+d_gluc3+d_smoke1+d_alco1+d_active1+d_BMI+age+gender+ap_hi+ap_lo+cholesterol+gluc+smoke+alco+active+BMI\""
      ]
     },
     "metadata": {},
     "output_type": "display_data"
    }
   ],
   "source": [
    "paste(paste(colnames(X),collapse=\"+\"),\n",
    "      paste(names(data[2:11]),collapse=\"+\"),\n",
    "      sep=\"+\")"
   ]
  },
  {
   "cell_type": "code",
   "execution_count": 4,
   "metadata": {},
   "outputs": [],
   "source": [
    "trainingIndices<-data[,\"Outcome\"]%>%\n",
    "    createDataPartition(p=0.80,list=F)\n",
    "trainSet<-data[trainingIndices,]\n",
    "testSet<-data[-trainingIndices,]\n",
    "Y_train<-as.matrix(trainSet[,\"Outcome\"])\n",
    "Y_test<-as.matrix(testSet[,\"Outcome\"])\n",
    "\n",
    "trainDesignMatrix<-model.matrix(Outcome~\n",
    "                                age+gender+ap_hi+ap_lo+cholesterol+gluc+smoke+alco+active+BMI+\n",
    "                                (d_age+d_gender2+d_ap_hi+d_ap_lo+d_cholesterol2+d_cholesterol3+d_gluc2+d_gluc3+d_smoke1+d_alco1+d_active1+d_BMI)^2,\n",
    "                                data=trainSet)\n",
    "testDesignMatrix<-model.matrix(Outcome~\n",
    "                               age+gender+ap_hi+ap_lo+cholesterol+gluc+smoke+alco+active+BMI+\n",
    "                               (d_age+d_gender2+d_ap_hi+d_ap_lo+d_cholesterol2+d_cholesterol3+d_gluc2+d_gluc3+d_smoke1+d_alco1+d_active1+d_BMI)^2,\n",
    "                               data=testSet)"
   ]
  },
  {
   "cell_type": "code",
   "execution_count": 5,
   "metadata": {},
   "outputs": [],
   "source": [
    "X_train<-trainDesignMatrix[,!colnames(trainDesignMatrix) %in% colnames(X)][,-1]\n",
    "X_test<-testDesignMatrix[,!colnames(testDesignMatrix) %in% colnames(X)][,-1]"
   ]
  },
  {
   "cell_type": "code",
   "execution_count": 6,
   "metadata": {},
   "outputs": [
    {
     "data": {
      "image/png": "[encoded data removed]",
      "text/plain": [
       "plot without title"
      ]
     },
     "metadata": {},
     "output_type": "display_data"
    }
   ],
   "source": [
    "set.seed(50)\n",
    "CV<-cv.glmnet(X_train,Y_train,\n",
    "              alpha=1,nfolds=5,family=\"binomial\")\n",
    "plot(CV)"
   ]
  },
  {
   "cell_type": "code",
   "execution_count": 9,
   "metadata": {},
   "outputs": [
    {
     "data": {
      "text/plain": [
       "79 x 1 sparse Matrix of class \"dgCMatrix\"\n",
       "                                         s0\n",
       "(Intercept)                   -8.887313e+00\n",
       "age                            4.757375e-02\n",
       "gender2                        7.896558e-02\n",
       "ap_hi                          4.312189e-02\n",
       "ap_lo                          4.749386e-04\n",
       "cholesterol2                   2.784974e-01\n",
       "cholesterol3                   1.073303e+00\n",
       "gluc2                          9.677348e-02\n",
       "gluc3                         -1.822604e-01\n",
       "smoke1                        -1.147575e-01\n",
       "alco1                         -1.632014e-01\n",
       "active1                       -1.981128e-01\n",
       "BMI                            3.188345e-02\n",
       "d_age:d_gender2               -1.138209e-02\n",
       "d_age:d_ap_hi                 -1.531872e-03\n",
       "d_age:d_ap_lo                 -3.639808e-05\n",
       "d_age:d_cholesterol2          -2.405251e-02\n",
       "d_age:d_cholesterol3          -1.780403e-02\n",
       "d_age:d_gluc2                 -1.607913e-02\n",
       "d_age:d_gluc3                 -1.092775e-03\n",
       "d_age:d_smoke1                -7.877133e-03\n",
       "d_age:d_alco1                  4.557048e-03\n",
       "d_age:d_active1               -4.600079e-03\n",
       "d_age:d_BMI                   -8.397271e-04\n",
       "d_gender2:d_ap_hi              5.060296e-03\n",
       "d_gender2:d_ap_lo             -3.576559e-04\n",
       "d_gender2:d_cholesterol2       4.814232e-02\n",
       "d_gender2:d_cholesterol3      -4.597619e-02\n",
       "d_gender2:d_gluc2             -7.303963e-02\n",
       "d_gender2:d_gluc3             -2.394797e-01\n",
       "d_gender2:d_smoke1             1.875147e-02\n",
       "d_gender2:d_alco1              3.566381e-02\n",
       "d_gender2:d_active1           -8.143321e-02\n",
       "d_gender2:d_BMI                7.667737e-03\n",
       "d_ap_hi:d_ap_lo                6.221403e-06\n",
       "d_ap_hi:d_cholesterol2        -2.022048e-03\n",
       "d_ap_hi:d_cholesterol3        -2.095988e-02\n",
       "d_ap_hi:d_gluc2                .           \n",
       "d_ap_hi:d_gluc3                2.882795e-03\n",
       "d_ap_hi:d_smoke1               2.017957e-02\n",
       "d_ap_hi:d_alco1               -2.429620e-03\n",
       "d_ap_hi:d_active1             -5.063829e-03\n",
       "d_ap_hi:d_BMI                  6.707312e-05\n",
       "d_ap_lo:d_cholesterol2         .           \n",
       "d_ap_lo:d_cholesterol3         5.286801e-04\n",
       "d_ap_lo:d_gluc2               -1.042669e-04\n",
       "d_ap_lo:d_gluc3               -4.406546e-04\n",
       "d_ap_lo:d_smoke1              -6.328074e-05\n",
       "d_ap_lo:d_alco1                1.076292e-03\n",
       "d_ap_lo:d_active1              6.801744e-04\n",
       "d_ap_lo:d_BMI                  9.384772e-06\n",
       "d_cholesterol2:d_cholesterol3 -1.382556e+00\n",
       "d_cholesterol2:d_gluc2        -3.098832e-01\n",
       "d_cholesterol2:d_gluc3        -1.492565e-01\n",
       "d_cholesterol2:d_smoke1        6.392301e-02\n",
       "d_cholesterol2:d_alco1        -2.587884e-01\n",
       "d_cholesterol2:d_active1       2.144716e-02\n",
       "d_cholesterol2:d_BMI          -3.856082e-03\n",
       "d_cholesterol3:d_gluc2        -3.370284e-01\n",
       "d_cholesterol3:d_gluc3        -5.299542e-01\n",
       "d_cholesterol3:d_smoke1        9.170274e-02\n",
       "d_cholesterol3:d_alco1         8.322009e-02\n",
       "d_cholesterol3:d_active1       2.806013e-01\n",
       "d_cholesterol3:d_BMI          -1.266713e-02\n",
       "d_gluc2:d_gluc3                .           \n",
       "d_gluc2:d_smoke1               1.249165e-01\n",
       "d_gluc2:d_alco1                3.637093e-01\n",
       "d_gluc2:d_active1              9.384170e-02\n",
       "d_gluc2:d_BMI                 -3.187227e-03\n",
       "d_gluc3:d_smoke1               8.067144e-03\n",
       "d_gluc3:d_alco1                3.118034e-01\n",
       "d_gluc3:d_active1             -1.151765e-01\n",
       "d_gluc3:d_BMI                  5.985229e-03\n",
       "d_smoke1:d_alco1              -1.418395e-01\n",
       "d_smoke1:d_active1            -6.991113e-02\n",
       "d_smoke1:d_BMI                 6.048010e-03\n",
       "d_alco1:d_active1              7.678982e-03\n",
       "d_alco1:d_BMI                 -6.087720e-03\n",
       "d_active1:d_BMI                2.879007e-04"
      ]
     },
     "metadata": {},
     "output_type": "display_data"
    }
   ],
   "source": [
    "lasso<-glmnet(X_train,Y_train,\n",
    "              alpha=1,family=\"binomial\",\n",
    "              lambda=CV$lambda.min)\n",
    "coef(lasso)"
   ]
  },
  {
   "cell_type": "code",
   "execution_count": 21,
   "metadata": {},
   "outputs": [
    {
     "name": "stdout",
     "output_type": "stream",
     "text": [
      "[1] \"Model Accuracy: 70%\"\n"
     ]
    }
   ],
   "source": [
    "probs<-predict(lasso,X_test)\n",
    "predictions<-ifelse(probs > 0.5,1,0)\n",
    "trueValues<-Y_test\n",
    "\n",
    "metric<-mean(predictions==trueValues)\n",
    "print(paste0(\"Model Accuracy: \",round(metric,2)*100,\"%\"))"
   ]
  }
 ],
 "metadata": {
  "kernelspec": {
   "display_name": "R",
   "language": "R",
   "name": "ir"
  },
  "language_info": {
   "codemirror_mode": "r",
   "file_extension": ".r",
   "mimetype": "text/x-r-source",
   "name": "R",
   "pygments_lexer": "r",
   "version": "3.6.1"
  }
 },
 "nbformat": 4,
 "nbformat_minor": 2
}
